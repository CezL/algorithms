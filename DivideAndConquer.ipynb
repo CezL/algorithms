{
  "nbformat": 4,
  "nbformat_minor": 0,
  "metadata": {
    "colab": {
      "name": "DivideAndConquer.ipynb",
      "provenance": [],
      "collapsed_sections": [],
      "toc_visible": true,
      "authorship_tag": "ABX9TyO2heCf4cGbL/7DTbTi34Ol",
      "include_colab_link": true
    },
    "kernelspec": {
      "name": "python3",
      "display_name": "Python 3"
    },
    "language_info": {
      "name": "python"
    }
  },
  "cells": [
    {
      "cell_type": "markdown",
      "metadata": {
        "id": "view-in-github",
        "colab_type": "text"
      },
      "source": [
        "<a href=\"https://colab.research.google.com/github/CezL/algorithms/blob/main/DivideAndConquer.ipynb\" target=\"_parent\"><img src=\"https://colab.research.google.com/assets/colab-badge.svg\" alt=\"Open In Colab\"/></a>"
      ]
    },
    {
      "cell_type": "markdown",
      "metadata": {
        "id": "3DeImsgy9wOR"
      },
      "source": [
        "# 快速排序\n",
        "双指针维护循环不变量方法：\n",
        "\n",
        "$A[left...i]<=x$\n",
        "\n",
        "$A[i+1...j]>x$\n",
        "\n",
        "$A[j+1...r-1]$未知，待排  \n",
        "\n",
        "- 在partition的过程中，两个指针最多只会遍历A[left...right]一次，时间复杂度为$O(n)$.然后分治法递归解决两个子问题，所以递归方程为$T(n)=2T(n/2)+O(n)$,由Master定理,$T(n)=O(nlgn)$"
      ]
    },
    {
      "cell_type": "code",
      "metadata": {
        "id": "JAWMdTBb69q5"
      },
      "source": [
        "import numpy as np \n",
        "A = np.random.normal(scale=100.,size=10)"
      ],
      "execution_count": null,
      "outputs": []
    },
    {
      "cell_type": "code",
      "metadata": {
        "id": "yCWJttyl797S"
      },
      "source": [
        "def partition(A,left,right):\n",
        "  x = A[right]\n",
        "  i = left-1\n",
        "  for j in range(left,right):\n",
        "    if A[j]<=x:\n",
        "      i = i+1\n",
        "      A[i],A[j] = A[j],A[i] \n",
        "  \n",
        "  A[i+1],A[right] = A[right],A[i+1]\n",
        "  return i+1 \n",
        "\n",
        "def quick_sort(A,left,right):\n",
        "  if left>=right:\n",
        "    return\n",
        "  mid = partition(A,left,right)    \n",
        "  quick_sort(A,left,mid-1)\n",
        "  quick_sort(A,mid+1,right)\n"
      ],
      "execution_count": null,
      "outputs": []
    },
    {
      "cell_type": "code",
      "metadata": {
        "colab": {
          "base_uri": "https://localhost:8080/"
        },
        "id": "Y3NH1z5b9GkZ",
        "outputId": "df487436-a4d0-4b6f-cfcd-b567e9d1c513"
      },
      "source": [
        "quick_sort(A,0,int(A.size)-1)\n",
        "print(A)"
      ],
      "execution_count": null,
      "outputs": [
        {
          "output_type": "stream",
          "name": "stdout",
          "text": [
            "[-229.05212308 -133.69994106  -79.82354617  -57.7396855   -38.15745132\n",
            "  -24.9847209    -4.71040047   47.08634071   75.17092875  108.31800122]\n"
          ]
        }
      ]
    },
    {
      "cell_type": "markdown",
      "metadata": {
        "id": "fOMiMyvlE1Oe"
      },
      "source": [
        "# 插入排序\n",
        "\n"
      ]
    },
    {
      "cell_type": "code",
      "metadata": {
        "id": "-NnptuNAE_Zs"
      },
      "source": [
        "import numpy as np \n",
        "A = np.random.normal(scale=100.,size=10)    "
      ],
      "execution_count": null,
      "outputs": []
    },
    {
      "cell_type": "code",
      "metadata": {
        "id": "wkrLNg0NFD6i"
      },
      "source": [
        "def insertion_sort(A):\n",
        "  n = len(A)\n",
        "  # the first number is already in order.   \n",
        "  for j in range(1,n):\n",
        "    key = A[j]\n",
        "    i = j-1 \n",
        "    while i>=0 and A[i]>key:\n",
        "      A[i+1] = A[i]\n",
        "      i = i-1  \n",
        "    A[i+1] = key \n"
      ],
      "execution_count": null,
      "outputs": []
    },
    {
      "cell_type": "code",
      "metadata": {
        "colab": {
          "base_uri": "https://localhost:8080/"
        },
        "id": "mwY4lQKoFydR",
        "outputId": "b6697085-5cc6-4b81-f662-5d6726f3762c"
      },
      "source": [
        "insertion_sort(A)\n",
        "print(A)"
      ],
      "execution_count": null,
      "outputs": [
        {
          "output_type": "stream",
          "name": "stdout",
          "text": [
            "[-89.15724797 -72.10905486 -60.89713466 -53.68618565 -30.4759155\n",
            "   1.64439492   8.20861947  63.26288536 119.19242887 212.63786525]\n"
          ]
        }
      ]
    },
    {
      "cell_type": "markdown",
      "metadata": {
        "id": "pZC6flDRQFtT"
      },
      "source": [
        "# MaxAndMin\n",
        "> A[0...n-1]，输出A中的最大值和最小值\n",
        "- 基于分治算法的一种解法,$T(n)=2T(n/2)+2$,解得$n$的系数为$\\frac{3}{2}$，虽然仍然是$O(n)$的解法，但是系数有了改进。"
      ]
    },
    {
      "cell_type": "code",
      "metadata": {
        "id": "KLIPk0x9QMjT"
      },
      "source": [
        "import numpy as np \n",
        "A = np.random.normal(scale=100.,size=10) "
      ],
      "execution_count": 49,
      "outputs": []
    },
    {
      "cell_type": "code",
      "metadata": {
        "id": "lHGDUbjDQPrp"
      },
      "source": [
        "def max_and_min(A,left,right):\n",
        "  if right-left==0:\n",
        "    return A[left],A[left]\n",
        "  if right-left==1:\n",
        "    max_num = max(A[left],A[right])\n",
        "    min_num = A[left]+A[right]-max_num\n",
        "    return max_num,min_num \n",
        "\n",
        "  mid = (left+right)//2;\n",
        "  max1,min1 = max_and_min(A,left,mid)\n",
        "  max2,min2 = max_and_min(A,mid+1,right)\n",
        "  \n",
        "  max_num = max(max1,max2)\n",
        "  min_num = min(min1,min2)   \n",
        "  return max_num,min_num "
      ],
      "execution_count": 62,
      "outputs": []
    },
    {
      "cell_type": "code",
      "metadata": {
        "colab": {
          "base_uri": "https://localhost:8080/"
        },
        "id": "r-MxTII4RCmO",
        "outputId": "8a53a38c-35d2-41da-90bc-c49e1754913d"
      },
      "source": [
        "print('A.max():',A.max(),'  A.min():',A.min())\n",
        "max_num,min_num = max_and_min(A,0,int(A.size)-1)\n",
        "print('max_num:',max_num,'  min_num:',min_num)"
      ],
      "execution_count": 67,
      "outputs": [
        {
          "output_type": "stream",
          "name": "stdout",
          "text": [
            "A.max(): 77.07766352997474   A.min(): -152.8012486563984\n",
            "max_num: 77.07766352997474   min_num: -152.8012486563984\n"
          ]
        }
      ]
    }
  ]
}